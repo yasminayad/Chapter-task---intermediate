{
 "cells": [
  {
   "cell_type": "code",
   "execution_count": 1,
   "id": "b56606bc",
   "metadata": {},
   "outputs": [],
   "source": [
    "import pandas as pd\n",
    "import numpy as np\n",
    "import matplotlib.pyplot as plt"
   ]
  },
  {
   "cell_type": "code",
   "execution_count": 2,
   "id": "c7a3c44f",
   "metadata": {},
   "outputs": [
    {
     "name": "stderr",
     "output_type": "stream",
     "text": [
      "C:\\Users\\yasme\\AppData\\Local\\Temp\\ipykernel_10824\\499073035.py:1: DtypeWarning: Columns (2) have mixed types. Specify dtype option on import or set low_memory=False.\n",
      "  df = pd.read_csv(r'C:\\Users\\yasme\\Downloads\\all_bikez_curated (1).csv')\n"
     ]
    }
   ],
   "source": [
    "df = pd.read_csv(r'C:\\Users\\yasme\\Downloads\\all_bikez_curated (1).csv')"
   ]
  },
  {
   "cell_type": "code",
   "execution_count": 3,
   "id": "bddae275",
   "metadata": {},
   "outputs": [
    {
     "data": {
      "text/plain": [
       "(38543, 17)"
      ]
     },
     "execution_count": 3,
     "metadata": {},
     "output_type": "execute_result"
    }
   ],
   "source": [
    "df.shape"
   ]
  },
  {
   "cell_type": "code",
   "execution_count": 4,
   "id": "f9c1010c",
   "metadata": {},
   "outputs": [
    {
     "data": {
      "text/plain": [
       "Brand                   object\n",
       "Model                   object\n",
       "Year                    object\n",
       "Category                object\n",
       "Displacement (ccm)     float64\n",
       "Power (hp)             float64\n",
       "Engine cylinder         object\n",
       "Engine stroke           object\n",
       "Gearbox                 object\n",
       "Fuel capacity (lts)    float64\n",
       "Fuel system             object\n",
       "Fuel control            object\n",
       "Cooling system          object\n",
       "Transmission type       object\n",
       "Dry weight (kg)        float64\n",
       "Wheelbase (mm)         float64\n",
       "Seat height (mm)       float64\n",
       "dtype: object"
      ]
     },
     "execution_count": 4,
     "metadata": {},
     "output_type": "execute_result"
    }
   ],
   "source": [
    "df.dtypes"
   ]
  },
  {
   "cell_type": "code",
   "execution_count": 5,
   "id": "35988d24",
   "metadata": {},
   "outputs": [
    {
     "data": {
      "text/html": [
       "<div>\n",
       "<style scoped>\n",
       "    .dataframe tbody tr th:only-of-type {\n",
       "        vertical-align: middle;\n",
       "    }\n",
       "\n",
       "    .dataframe tbody tr th {\n",
       "        vertical-align: top;\n",
       "    }\n",
       "\n",
       "    .dataframe thead th {\n",
       "        text-align: right;\n",
       "    }\n",
       "</style>\n",
       "<table border=\"1\" class=\"dataframe\">\n",
       "  <thead>\n",
       "    <tr style=\"text-align: right;\">\n",
       "      <th></th>\n",
       "      <th>Brand</th>\n",
       "      <th>Model</th>\n",
       "      <th>Year</th>\n",
       "      <th>Category</th>\n",
       "      <th>Displacement (ccm)</th>\n",
       "      <th>Power (hp)</th>\n",
       "      <th>Engine cylinder</th>\n",
       "      <th>Engine stroke</th>\n",
       "      <th>Gearbox</th>\n",
       "      <th>Fuel capacity (lts)</th>\n",
       "      <th>Fuel system</th>\n",
       "      <th>Fuel control</th>\n",
       "      <th>Cooling system</th>\n",
       "      <th>Transmission type</th>\n",
       "      <th>Dry weight (kg)</th>\n",
       "      <th>Wheelbase (mm)</th>\n",
       "      <th>Seat height (mm)</th>\n",
       "    </tr>\n",
       "  </thead>\n",
       "  <tbody>\n",
       "    <tr>\n",
       "      <th>0</th>\n",
       "      <td>acabion</td>\n",
       "      <td>da vinci 650-vi</td>\n",
       "      <td>2011</td>\n",
       "      <td>Prototype / concept model</td>\n",
       "      <td>NaN</td>\n",
       "      <td>804.0</td>\n",
       "      <td>Electric</td>\n",
       "      <td>Electric</td>\n",
       "      <td>NaN</td>\n",
       "      <td>NaN</td>\n",
       "      <td>NaN</td>\n",
       "      <td>NaN</td>\n",
       "      <td>Liquid</td>\n",
       "      <td>Chain</td>\n",
       "      <td>420.0</td>\n",
       "      <td>NaN</td>\n",
       "      <td>NaN</td>\n",
       "    </tr>\n",
       "    <tr>\n",
       "      <th>1</th>\n",
       "      <td>acabion</td>\n",
       "      <td>gtbo 55</td>\n",
       "      <td>2007</td>\n",
       "      <td>Sport</td>\n",
       "      <td>1300.0</td>\n",
       "      <td>541.0</td>\n",
       "      <td>In-line four</td>\n",
       "      <td>four-stroke</td>\n",
       "      <td>6-speed</td>\n",
       "      <td>NaN</td>\n",
       "      <td>Turbo. KKK Acabion Extended</td>\n",
       "      <td>NaN</td>\n",
       "      <td>Liquid</td>\n",
       "      <td>NaN</td>\n",
       "      <td>360.0</td>\n",
       "      <td>NaN</td>\n",
       "      <td>NaN</td>\n",
       "    </tr>\n",
       "    <tr>\n",
       "      <th>2</th>\n",
       "      <td>acabion</td>\n",
       "      <td>gtbo 600 daytona-vi</td>\n",
       "      <td>2011</td>\n",
       "      <td>Prototype / concept model</td>\n",
       "      <td>NaN</td>\n",
       "      <td>536.0</td>\n",
       "      <td>Electric</td>\n",
       "      <td>Electric</td>\n",
       "      <td>NaN</td>\n",
       "      <td>NaN</td>\n",
       "      <td>NaN</td>\n",
       "      <td>NaN</td>\n",
       "      <td>Liquid</td>\n",
       "      <td>NaN</td>\n",
       "      <td>420.0</td>\n",
       "      <td>NaN</td>\n",
       "      <td>NaN</td>\n",
       "    </tr>\n",
       "    <tr>\n",
       "      <th>3</th>\n",
       "      <td>acabion</td>\n",
       "      <td>gtbo 600 daytona-vi</td>\n",
       "      <td>2021</td>\n",
       "      <td>Prototype / concept model</td>\n",
       "      <td>NaN</td>\n",
       "      <td>536.0</td>\n",
       "      <td>Electric</td>\n",
       "      <td>Electric</td>\n",
       "      <td>NaN</td>\n",
       "      <td>NaN</td>\n",
       "      <td>NaN</td>\n",
       "      <td>NaN</td>\n",
       "      <td>Liquid</td>\n",
       "      <td>NaN</td>\n",
       "      <td>420.0</td>\n",
       "      <td>NaN</td>\n",
       "      <td>NaN</td>\n",
       "    </tr>\n",
       "    <tr>\n",
       "      <th>4</th>\n",
       "      <td>acabion</td>\n",
       "      <td>gtbo 70</td>\n",
       "      <td>2007</td>\n",
       "      <td>Prototype / concept model</td>\n",
       "      <td>1300.0</td>\n",
       "      <td>689.0</td>\n",
       "      <td>In-line four</td>\n",
       "      <td>four-stroke</td>\n",
       "      <td>6-speed</td>\n",
       "      <td>NaN</td>\n",
       "      <td>Turbo. KKK Acabion Extended</td>\n",
       "      <td>NaN</td>\n",
       "      <td>Liquid</td>\n",
       "      <td>NaN</td>\n",
       "      <td>300.0</td>\n",
       "      <td>NaN</td>\n",
       "      <td>NaN</td>\n",
       "    </tr>\n",
       "    <tr>\n",
       "      <th>5</th>\n",
       "      <td>access</td>\n",
       "      <td>37 offroad e-scooter</td>\n",
       "      <td>2021</td>\n",
       "      <td>Scooter</td>\n",
       "      <td>NaN</td>\n",
       "      <td>1.1</td>\n",
       "      <td>Electric</td>\n",
       "      <td>Electric</td>\n",
       "      <td>Automatic</td>\n",
       "      <td>NaN</td>\n",
       "      <td>NaN</td>\n",
       "      <td>NaN</td>\n",
       "      <td>NaN</td>\n",
       "      <td>Chain</td>\n",
       "      <td>42.0</td>\n",
       "      <td>NaN</td>\n",
       "      <td>750.0</td>\n",
       "    </tr>\n",
       "    <tr>\n",
       "      <th>6</th>\n",
       "      <td>access</td>\n",
       "      <td>ams 3.20 supercross</td>\n",
       "      <td>2016</td>\n",
       "      <td>ATV</td>\n",
       "      <td>280.0</td>\n",
       "      <td>18.8</td>\n",
       "      <td>Single cylinder</td>\n",
       "      <td>four-stroke</td>\n",
       "      <td>Automatic</td>\n",
       "      <td>14.0</td>\n",
       "      <td>Carburettor</td>\n",
       "      <td>Overhead Valves (OHV)</td>\n",
       "      <td>Air</td>\n",
       "      <td>Chain</td>\n",
       "      <td>225.0</td>\n",
       "      <td>NaN</td>\n",
       "      <td>NaN</td>\n",
       "    </tr>\n",
       "    <tr>\n",
       "      <th>7</th>\n",
       "      <td>access</td>\n",
       "      <td>ams 4.30 supermoto efi</td>\n",
       "      <td>2016</td>\n",
       "      <td>ATV</td>\n",
       "      <td>359.3</td>\n",
       "      <td>29.5</td>\n",
       "      <td>Single cylinder</td>\n",
       "      <td>four-stroke</td>\n",
       "      <td>Automatic</td>\n",
       "      <td>14.0</td>\n",
       "      <td>Injection. EFI</td>\n",
       "      <td>Overhead Cams (OHC)</td>\n",
       "      <td>Air</td>\n",
       "      <td>Chain</td>\n",
       "      <td>236.0</td>\n",
       "      <td>NaN</td>\n",
       "      <td>NaN</td>\n",
       "    </tr>\n",
       "    <tr>\n",
       "      <th>8</th>\n",
       "      <td>access</td>\n",
       "      <td>ams 4.38 sm gear shift</td>\n",
       "      <td>2016</td>\n",
       "      <td>ATV</td>\n",
       "      <td>449.0</td>\n",
       "      <td>37.6</td>\n",
       "      <td>Single cylinder</td>\n",
       "      <td>four-stroke</td>\n",
       "      <td>5-speed</td>\n",
       "      <td>14.0</td>\n",
       "      <td>Carburettor</td>\n",
       "      <td>Overhead Cams (OHC)</td>\n",
       "      <td>Air</td>\n",
       "      <td>Chain</td>\n",
       "      <td>236.0</td>\n",
       "      <td>NaN</td>\n",
       "      <td>NaN</td>\n",
       "    </tr>\n",
       "    <tr>\n",
       "      <th>9</th>\n",
       "      <td>access</td>\n",
       "      <td>ams 4.38 sx gear shift</td>\n",
       "      <td>2016</td>\n",
       "      <td>ATV</td>\n",
       "      <td>449.0</td>\n",
       "      <td>37.6</td>\n",
       "      <td>Single cylinder</td>\n",
       "      <td>four-stroke</td>\n",
       "      <td>5-speed</td>\n",
       "      <td>14.0</td>\n",
       "      <td>Carburettor</td>\n",
       "      <td>Overhead Cams (OHC)</td>\n",
       "      <td>Air</td>\n",
       "      <td>Chain</td>\n",
       "      <td>236.0</td>\n",
       "      <td>NaN</td>\n",
       "      <td>NaN</td>\n",
       "    </tr>\n",
       "  </tbody>\n",
       "</table>\n",
       "</div>"
      ],
      "text/plain": [
       "     Brand                   Model  Year                   Category  \\\n",
       "0  acabion         da vinci 650-vi  2011  Prototype / concept model   \n",
       "1  acabion                 gtbo 55  2007                      Sport   \n",
       "2  acabion     gtbo 600 daytona-vi  2011  Prototype / concept model   \n",
       "3  acabion     gtbo 600 daytona-vi  2021  Prototype / concept model   \n",
       "4  acabion                 gtbo 70  2007  Prototype / concept model   \n",
       "5   access    37 offroad e-scooter  2021                    Scooter   \n",
       "6   access     ams 3.20 supercross  2016                        ATV   \n",
       "7   access  ams 4.30 supermoto efi  2016                        ATV   \n",
       "8   access  ams 4.38 sm gear shift  2016                        ATV   \n",
       "9   access  ams 4.38 sx gear shift  2016                        ATV   \n",
       "\n",
       "   Displacement (ccm)  Power (hp)  Engine cylinder Engine stroke    Gearbox  \\\n",
       "0                 NaN       804.0         Electric      Electric        NaN   \n",
       "1              1300.0       541.0     In-line four   four-stroke    6-speed   \n",
       "2                 NaN       536.0         Electric      Electric        NaN   \n",
       "3                 NaN       536.0         Electric      Electric        NaN   \n",
       "4              1300.0       689.0     In-line four   four-stroke    6-speed   \n",
       "5                 NaN         1.1         Electric      Electric  Automatic   \n",
       "6               280.0        18.8  Single cylinder   four-stroke  Automatic   \n",
       "7               359.3        29.5  Single cylinder   four-stroke  Automatic   \n",
       "8               449.0        37.6  Single cylinder   four-stroke    5-speed   \n",
       "9               449.0        37.6  Single cylinder   four-stroke    5-speed   \n",
       "\n",
       "   Fuel capacity (lts)                  Fuel system           Fuel control  \\\n",
       "0                  NaN                          NaN                    NaN   \n",
       "1                  NaN  Turbo. KKK Acabion Extended                    NaN   \n",
       "2                  NaN                          NaN                    NaN   \n",
       "3                  NaN                          NaN                    NaN   \n",
       "4                  NaN  Turbo. KKK Acabion Extended                    NaN   \n",
       "5                  NaN                          NaN                    NaN   \n",
       "6                 14.0                  Carburettor  Overhead Valves (OHV)   \n",
       "7                 14.0               Injection. EFI    Overhead Cams (OHC)   \n",
       "8                 14.0                  Carburettor    Overhead Cams (OHC)   \n",
       "9                 14.0                  Carburettor    Overhead Cams (OHC)   \n",
       "\n",
       "  Cooling system Transmission type  Dry weight (kg)  Wheelbase (mm)  \\\n",
       "0         Liquid             Chain            420.0             NaN   \n",
       "1         Liquid               NaN            360.0             NaN   \n",
       "2         Liquid               NaN            420.0             NaN   \n",
       "3         Liquid               NaN            420.0             NaN   \n",
       "4         Liquid               NaN            300.0             NaN   \n",
       "5            NaN             Chain             42.0             NaN   \n",
       "6            Air             Chain            225.0             NaN   \n",
       "7            Air             Chain            236.0             NaN   \n",
       "8            Air             Chain            236.0             NaN   \n",
       "9            Air             Chain            236.0             NaN   \n",
       "\n",
       "   Seat height (mm)  \n",
       "0               NaN  \n",
       "1               NaN  \n",
       "2               NaN  \n",
       "3               NaN  \n",
       "4               NaN  \n",
       "5             750.0  \n",
       "6               NaN  \n",
       "7               NaN  \n",
       "8               NaN  \n",
       "9               NaN  "
      ]
     },
     "execution_count": 5,
     "metadata": {},
     "output_type": "execute_result"
    }
   ],
   "source": [
    "df.head(10)"
   ]
  },
  {
   "cell_type": "code",
   "execution_count": 6,
   "id": "104e7dba",
   "metadata": {},
   "outputs": [
    {
     "name": "stdout",
     "output_type": "stream",
     "text": [
      "<class 'pandas.core.frame.DataFrame'>\n",
      "RangeIndex: 38543 entries, 0 to 38542\n",
      "Data columns (total 17 columns):\n",
      " #   Column               Non-Null Count  Dtype  \n",
      "---  ------               --------------  -----  \n",
      " 0   Brand                38543 non-null  object \n",
      " 1   Model                38515 non-null  object \n",
      " 2   Year                 38543 non-null  object \n",
      " 3   Category             38543 non-null  object \n",
      " 4   Displacement (ccm)   37514 non-null  float64\n",
      " 5   Power (hp)           26162 non-null  float64\n",
      " 6   Engine cylinder      38527 non-null  object \n",
      " 7   Engine stroke        38532 non-null  object \n",
      " 8   Gearbox              32733 non-null  object \n",
      " 9   Fuel capacity (lts)  31747 non-null  float64\n",
      " 10  Fuel system          27893 non-null  object \n",
      " 11  Fuel control         22032 non-null  object \n",
      " 12  Cooling system       34322 non-null  object \n",
      " 13  Transmission type    32912 non-null  object \n",
      " 14  Dry weight (kg)      22534 non-null  float64\n",
      " 15  Wheelbase (mm)       25530 non-null  float64\n",
      " 16  Seat height (mm)     24225 non-null  float64\n",
      "dtypes: float64(6), object(11)\n",
      "memory usage: 5.0+ MB\n"
     ]
    }
   ],
   "source": [
    "df.info()"
   ]
  },
  {
   "cell_type": "code",
   "execution_count": 7,
   "id": "d1ff68e8",
   "metadata": {},
   "outputs": [
    {
     "data": {
      "text/plain": [
       "Brand                      0\n",
       "Model                     28\n",
       "Year                       0\n",
       "Category                   0\n",
       "Displacement (ccm)      1029\n",
       "Power (hp)             12381\n",
       "Engine cylinder           16\n",
       "Engine stroke             11\n",
       "Gearbox                 5810\n",
       "Fuel capacity (lts)     6796\n",
       "Fuel system            10650\n",
       "Fuel control           16511\n",
       "Cooling system          4221\n",
       "Transmission type       5631\n",
       "Dry weight (kg)        16009\n",
       "Wheelbase (mm)         13013\n",
       "Seat height (mm)       14318\n",
       "dtype: int64"
      ]
     },
     "execution_count": 7,
     "metadata": {},
     "output_type": "execute_result"
    }
   ],
   "source": [
    "df.isna().sum()"
   ]
  },
  {
   "cell_type": "code",
   "execution_count": 8,
   "id": "409a2925",
   "metadata": {},
   "outputs": [],
   "source": [
    "df.drop(columns=['Power (hp)', 'Fuel control', 'Dry weight (kg)', 'Wheelbase (mm)', 'Seat height (mm)'], inplace=True)"
   ]
  },
  {
   "cell_type": "code",
   "execution_count": 9,
   "id": "fa2ffef9",
   "metadata": {},
   "outputs": [
    {
     "data": {
      "text/plain": [
       "Brand                      0\n",
       "Model                     28\n",
       "Year                       0\n",
       "Category                   0\n",
       "Displacement (ccm)      1029\n",
       "Engine cylinder           16\n",
       "Engine stroke             11\n",
       "Gearbox                 5810\n",
       "Fuel capacity (lts)     6796\n",
       "Fuel system            10650\n",
       "Cooling system          4221\n",
       "Transmission type       5631\n",
       "dtype: int64"
      ]
     },
     "execution_count": 9,
     "metadata": {},
     "output_type": "execute_result"
    }
   ],
   "source": [
    "df.isna().sum()"
   ]
  },
  {
   "cell_type": "code",
   "execution_count": 10,
   "id": "ccc448c2",
   "metadata": {},
   "outputs": [
    {
     "data": {
      "text/html": [
       "<div>\n",
       "<style scoped>\n",
       "    .dataframe tbody tr th:only-of-type {\n",
       "        vertical-align: middle;\n",
       "    }\n",
       "\n",
       "    .dataframe tbody tr th {\n",
       "        vertical-align: top;\n",
       "    }\n",
       "\n",
       "    .dataframe thead th {\n",
       "        text-align: right;\n",
       "    }\n",
       "</style>\n",
       "<table border=\"1\" class=\"dataframe\">\n",
       "  <thead>\n",
       "    <tr style=\"text-align: right;\">\n",
       "      <th></th>\n",
       "      <th>Brand</th>\n",
       "      <th>Model</th>\n",
       "      <th>Year</th>\n",
       "      <th>Category</th>\n",
       "      <th>Displacement (ccm)</th>\n",
       "      <th>Engine cylinder</th>\n",
       "      <th>Engine stroke</th>\n",
       "      <th>Gearbox</th>\n",
       "      <th>Fuel capacity (lts)</th>\n",
       "      <th>Fuel system</th>\n",
       "      <th>Cooling system</th>\n",
       "      <th>Transmission type</th>\n",
       "    </tr>\n",
       "  </thead>\n",
       "  <tbody>\n",
       "    <tr>\n",
       "      <th>0</th>\n",
       "      <td>acabion</td>\n",
       "      <td>da vinci 650-vi</td>\n",
       "      <td>2011</td>\n",
       "      <td>Prototype / concept model</td>\n",
       "      <td>NaN</td>\n",
       "      <td>Electric</td>\n",
       "      <td>Electric</td>\n",
       "      <td>NaN</td>\n",
       "      <td>NaN</td>\n",
       "      <td>NaN</td>\n",
       "      <td>Liquid</td>\n",
       "      <td>Chain</td>\n",
       "    </tr>\n",
       "    <tr>\n",
       "      <th>1</th>\n",
       "      <td>acabion</td>\n",
       "      <td>gtbo 55</td>\n",
       "      <td>2007</td>\n",
       "      <td>Sport</td>\n",
       "      <td>1300.0</td>\n",
       "      <td>In-line four</td>\n",
       "      <td>four-stroke</td>\n",
       "      <td>6-speed</td>\n",
       "      <td>NaN</td>\n",
       "      <td>Turbo. KKK Acabion Extended</td>\n",
       "      <td>Liquid</td>\n",
       "      <td>NaN</td>\n",
       "    </tr>\n",
       "    <tr>\n",
       "      <th>2</th>\n",
       "      <td>acabion</td>\n",
       "      <td>gtbo 600 daytona-vi</td>\n",
       "      <td>2011</td>\n",
       "      <td>Prototype / concept model</td>\n",
       "      <td>NaN</td>\n",
       "      <td>Electric</td>\n",
       "      <td>Electric</td>\n",
       "      <td>NaN</td>\n",
       "      <td>NaN</td>\n",
       "      <td>NaN</td>\n",
       "      <td>Liquid</td>\n",
       "      <td>NaN</td>\n",
       "    </tr>\n",
       "    <tr>\n",
       "      <th>3</th>\n",
       "      <td>acabion</td>\n",
       "      <td>gtbo 600 daytona-vi</td>\n",
       "      <td>2021</td>\n",
       "      <td>Prototype / concept model</td>\n",
       "      <td>NaN</td>\n",
       "      <td>Electric</td>\n",
       "      <td>Electric</td>\n",
       "      <td>NaN</td>\n",
       "      <td>NaN</td>\n",
       "      <td>NaN</td>\n",
       "      <td>Liquid</td>\n",
       "      <td>NaN</td>\n",
       "    </tr>\n",
       "    <tr>\n",
       "      <th>4</th>\n",
       "      <td>acabion</td>\n",
       "      <td>gtbo 70</td>\n",
       "      <td>2007</td>\n",
       "      <td>Prototype / concept model</td>\n",
       "      <td>1300.0</td>\n",
       "      <td>In-line four</td>\n",
       "      <td>four-stroke</td>\n",
       "      <td>6-speed</td>\n",
       "      <td>NaN</td>\n",
       "      <td>Turbo. KKK Acabion Extended</td>\n",
       "      <td>Liquid</td>\n",
       "      <td>NaN</td>\n",
       "    </tr>\n",
       "    <tr>\n",
       "      <th>5</th>\n",
       "      <td>access</td>\n",
       "      <td>37 offroad e-scooter</td>\n",
       "      <td>2021</td>\n",
       "      <td>Scooter</td>\n",
       "      <td>NaN</td>\n",
       "      <td>Electric</td>\n",
       "      <td>Electric</td>\n",
       "      <td>Automatic</td>\n",
       "      <td>NaN</td>\n",
       "      <td>NaN</td>\n",
       "      <td>NaN</td>\n",
       "      <td>Chain</td>\n",
       "    </tr>\n",
       "    <tr>\n",
       "      <th>6</th>\n",
       "      <td>access</td>\n",
       "      <td>ams 3.20 supercross</td>\n",
       "      <td>2016</td>\n",
       "      <td>ATV</td>\n",
       "      <td>280.0</td>\n",
       "      <td>Single cylinder</td>\n",
       "      <td>four-stroke</td>\n",
       "      <td>Automatic</td>\n",
       "      <td>14.0</td>\n",
       "      <td>Carburettor</td>\n",
       "      <td>Air</td>\n",
       "      <td>Chain</td>\n",
       "    </tr>\n",
       "    <tr>\n",
       "      <th>7</th>\n",
       "      <td>access</td>\n",
       "      <td>ams 4.30 supermoto efi</td>\n",
       "      <td>2016</td>\n",
       "      <td>ATV</td>\n",
       "      <td>359.3</td>\n",
       "      <td>Single cylinder</td>\n",
       "      <td>four-stroke</td>\n",
       "      <td>Automatic</td>\n",
       "      <td>14.0</td>\n",
       "      <td>Injection. EFI</td>\n",
       "      <td>Air</td>\n",
       "      <td>Chain</td>\n",
       "    </tr>\n",
       "    <tr>\n",
       "      <th>8</th>\n",
       "      <td>access</td>\n",
       "      <td>ams 4.38 sm gear shift</td>\n",
       "      <td>2016</td>\n",
       "      <td>ATV</td>\n",
       "      <td>449.0</td>\n",
       "      <td>Single cylinder</td>\n",
       "      <td>four-stroke</td>\n",
       "      <td>5-speed</td>\n",
       "      <td>14.0</td>\n",
       "      <td>Carburettor</td>\n",
       "      <td>Air</td>\n",
       "      <td>Chain</td>\n",
       "    </tr>\n",
       "    <tr>\n",
       "      <th>9</th>\n",
       "      <td>access</td>\n",
       "      <td>ams 4.38 sx gear shift</td>\n",
       "      <td>2016</td>\n",
       "      <td>ATV</td>\n",
       "      <td>449.0</td>\n",
       "      <td>Single cylinder</td>\n",
       "      <td>four-stroke</td>\n",
       "      <td>5-speed</td>\n",
       "      <td>14.0</td>\n",
       "      <td>Carburettor</td>\n",
       "      <td>Air</td>\n",
       "      <td>Chain</td>\n",
       "    </tr>\n",
       "  </tbody>\n",
       "</table>\n",
       "</div>"
      ],
      "text/plain": [
       "     Brand                   Model  Year                   Category  \\\n",
       "0  acabion         da vinci 650-vi  2011  Prototype / concept model   \n",
       "1  acabion                 gtbo 55  2007                      Sport   \n",
       "2  acabion     gtbo 600 daytona-vi  2011  Prototype / concept model   \n",
       "3  acabion     gtbo 600 daytona-vi  2021  Prototype / concept model   \n",
       "4  acabion                 gtbo 70  2007  Prototype / concept model   \n",
       "5   access    37 offroad e-scooter  2021                    Scooter   \n",
       "6   access     ams 3.20 supercross  2016                        ATV   \n",
       "7   access  ams 4.30 supermoto efi  2016                        ATV   \n",
       "8   access  ams 4.38 sm gear shift  2016                        ATV   \n",
       "9   access  ams 4.38 sx gear shift  2016                        ATV   \n",
       "\n",
       "   Displacement (ccm)  Engine cylinder Engine stroke    Gearbox  \\\n",
       "0                 NaN         Electric      Electric        NaN   \n",
       "1              1300.0     In-line four   four-stroke    6-speed   \n",
       "2                 NaN         Electric      Electric        NaN   \n",
       "3                 NaN         Electric      Electric        NaN   \n",
       "4              1300.0     In-line four   four-stroke    6-speed   \n",
       "5                 NaN         Electric      Electric  Automatic   \n",
       "6               280.0  Single cylinder   four-stroke  Automatic   \n",
       "7               359.3  Single cylinder   four-stroke  Automatic   \n",
       "8               449.0  Single cylinder   four-stroke    5-speed   \n",
       "9               449.0  Single cylinder   four-stroke    5-speed   \n",
       "\n",
       "   Fuel capacity (lts)                  Fuel system Cooling system  \\\n",
       "0                  NaN                          NaN         Liquid   \n",
       "1                  NaN  Turbo. KKK Acabion Extended         Liquid   \n",
       "2                  NaN                          NaN         Liquid   \n",
       "3                  NaN                          NaN         Liquid   \n",
       "4                  NaN  Turbo. KKK Acabion Extended         Liquid   \n",
       "5                  NaN                          NaN            NaN   \n",
       "6                 14.0                  Carburettor            Air   \n",
       "7                 14.0               Injection. EFI            Air   \n",
       "8                 14.0                  Carburettor            Air   \n",
       "9                 14.0                  Carburettor            Air   \n",
       "\n",
       "  Transmission type  \n",
       "0             Chain  \n",
       "1               NaN  \n",
       "2               NaN  \n",
       "3               NaN  \n",
       "4               NaN  \n",
       "5             Chain  \n",
       "6             Chain  \n",
       "7             Chain  \n",
       "8             Chain  \n",
       "9             Chain  "
      ]
     },
     "execution_count": 10,
     "metadata": {},
     "output_type": "execute_result"
    }
   ],
   "source": [
    "df.head(10)"
   ]
  },
  {
   "cell_type": "code",
   "execution_count": 11,
   "id": "fd838262",
   "metadata": {},
   "outputs": [],
   "source": [
    "df.dropna(subset=['Model','Displacement (ccm)','Engine cylinder','Engine stroke'], inplace=True)"
   ]
  },
  {
   "cell_type": "code",
   "execution_count": 12,
   "id": "60b902f4",
   "metadata": {},
   "outputs": [
    {
     "data": {
      "text/plain": [
       "(37470, 12)"
      ]
     },
     "execution_count": 12,
     "metadata": {},
     "output_type": "execute_result"
    }
   ],
   "source": [
    "df.shape"
   ]
  },
  {
   "cell_type": "code",
   "execution_count": 13,
   "id": "58ed3f28",
   "metadata": {},
   "outputs": [
    {
     "data": {
      "text/plain": [
       "Brand                     0\n",
       "Model                     0\n",
       "Year                      0\n",
       "Category                  0\n",
       "Displacement (ccm)        0\n",
       "Engine cylinder           0\n",
       "Engine stroke             0\n",
       "Gearbox                5422\n",
       "Fuel capacity (lts)    5776\n",
       "Fuel system            9612\n",
       "Cooling system         3973\n",
       "Transmission type      5083\n",
       "dtype: int64"
      ]
     },
     "execution_count": 13,
     "metadata": {},
     "output_type": "execute_result"
    }
   ],
   "source": [
    "df.isna().sum()"
   ]
  },
  {
   "cell_type": "code",
   "execution_count": 14,
   "id": "698da77e",
   "metadata": {},
   "outputs": [
    {
     "data": {
      "text/plain": [
       "6-speed                 11884\n",
       "5-speed                 10986\n",
       "Automatic                5617\n",
       "4-speed                  2790\n",
       "3-speed                   468\n",
       "1-speed                   113\n",
       "2-speed                    83\n",
       "4-speed with reverse       49\n",
       "7-speed                    22\n",
       "100-speed                  15\n",
       "2-speed automatic           8\n",
       "5-speed with reverse        5\n",
       "10-speed                    4\n",
       "8-speed                     2\n",
       "6-speed with reverse        1\n",
       "3-speed automatic           1\n",
       "Name: Gearbox, dtype: int64"
      ]
     },
     "execution_count": 14,
     "metadata": {},
     "output_type": "execute_result"
    }
   ],
   "source": [
    "df['Gearbox'].value_counts()"
   ]
  },
  {
   "cell_type": "code",
   "execution_count": 15,
   "id": "beb4066f",
   "metadata": {},
   "outputs": [],
   "source": [
    "df['Gearbox'].fillna(df['Gearbox'].mode()[0], inplace=True)"
   ]
  },
  {
   "cell_type": "code",
   "execution_count": 16,
   "id": "c7b02884",
   "metadata": {},
   "outputs": [
    {
     "data": {
      "text/plain": [
       "17.00    1385\n",
       "14.00    1233\n",
       "12.00    1088\n",
       "15.00    1057\n",
       "16.00     985\n",
       "         ... \n",
       "22.10       1\n",
       "5.75        1\n",
       "21.19       1\n",
       "8.75        1\n",
       "18.35       1\n",
       "Name: Fuel capacity (lts), Length: 443, dtype: int64"
      ]
     },
     "execution_count": 16,
     "metadata": {},
     "output_type": "execute_result"
    }
   ],
   "source": [
    "df['Fuel capacity (lts)'].value_counts()"
   ]
  },
  {
   "cell_type": "code",
   "execution_count": 17,
   "id": "ab1493f1",
   "metadata": {},
   "outputs": [],
   "source": [
    "df['Fuel capacity (lts)'].fillna(df['Fuel capacity (lts)'].mean(), inplace=True)"
   ]
  },
  {
   "cell_type": "code",
   "execution_count": 18,
   "id": "34b96acf",
   "metadata": {},
   "outputs": [
    {
     "data": {
      "text/plain": [
       "Carburettor                                                     7565\n",
       "Injection                                                       5092\n",
       "Injection. EFI                                                   718\n",
       "Injection. PGM-FI                                                267\n",
       "Injection. Electronic Sequential Port Fuel Injection (ESPFI)     262\n",
       "                                                                ... \n",
       "Carburettor.  Keihin CVK32 x 4                                     1\n",
       "Injection. Fuel Injection; (2) 36mm Mikuni throttle bodies         1\n",
       "Injection. DFI; (2) 36mm Mikuni throttle bodies                    1\n",
       "Carburettor. 22mm Mikuni slide/needle                              1\n",
       "Carburettor. Bing 19mm (1/19/36)                                   1\n",
       "Name: Fuel system, Length: 2908, dtype: int64"
      ]
     },
     "execution_count": 18,
     "metadata": {},
     "output_type": "execute_result"
    }
   ],
   "source": [
    "df['Fuel system'].value_counts()"
   ]
  },
  {
   "cell_type": "code",
   "execution_count": 19,
   "id": "c01bf8da",
   "metadata": {},
   "outputs": [],
   "source": [
    "df['Fuel system'].fillna(df['Fuel system'].mode()[0], inplace=True)"
   ]
  },
  {
   "cell_type": "code",
   "execution_count": 20,
   "id": "c51f7a82",
   "metadata": {},
   "outputs": [
    {
     "data": {
      "text/plain": [
       "Brand                     0\n",
       "Model                     0\n",
       "Year                      0\n",
       "Category                  0\n",
       "Displacement (ccm)        0\n",
       "Engine cylinder           0\n",
       "Engine stroke             0\n",
       "Gearbox                   0\n",
       "Fuel capacity (lts)       0\n",
       "Fuel system               0\n",
       "Cooling system         3973\n",
       "Transmission type      5083\n",
       "dtype: int64"
      ]
     },
     "execution_count": 20,
     "metadata": {},
     "output_type": "execute_result"
    }
   ],
   "source": [
    "df.isna().sum()"
   ]
  },
  {
   "cell_type": "code",
   "execution_count": 21,
   "id": "590ec6a5",
   "metadata": {},
   "outputs": [],
   "source": [
    "df.dropna(subset=['Cooling system','Transmission type'], inplace=True)"
   ]
  },
  {
   "cell_type": "code",
   "execution_count": 22,
   "id": "c5e18d10",
   "metadata": {},
   "outputs": [
    {
     "data": {
      "text/plain": [
       "Brand                  0\n",
       "Model                  0\n",
       "Year                   0\n",
       "Category               0\n",
       "Displacement (ccm)     0\n",
       "Engine cylinder        0\n",
       "Engine stroke          0\n",
       "Gearbox                0\n",
       "Fuel capacity (lts)    0\n",
       "Fuel system            0\n",
       "Cooling system         0\n",
       "Transmission type      0\n",
       "dtype: int64"
      ]
     },
     "execution_count": 22,
     "metadata": {},
     "output_type": "execute_result"
    }
   ],
   "source": [
    "df.isna().sum()"
   ]
  },
  {
   "cell_type": "code",
   "execution_count": 23,
   "id": "60d0c1d2",
   "metadata": {},
   "outputs": [
    {
     "data": {
      "text/plain": [
       "(29818, 12)"
      ]
     },
     "execution_count": 23,
     "metadata": {},
     "output_type": "execute_result"
    }
   ],
   "source": [
    "df.shape"
   ]
  },
  {
   "cell_type": "markdown",
   "id": "a313ce98",
   "metadata": {},
   "source": [
    "# Brand column"
   ]
  },
  {
   "cell_type": "code",
   "execution_count": 24,
   "id": "798a4676",
   "metadata": {},
   "outputs": [
    {
     "data": {
      "text/plain": [
       "array(['access', 'adiva', 'adler', 'adly', 'aeon', 'aermacchi', 'agrati',\n",
       "       'ajp', 'ajs', 'alfer', 'alligator', 'allstate', 'alphasports',\n",
       "       'amazonas', 'american eagle', 'american ironhorse', 'aprilia',\n",
       "       'apsonic', 'arch', 'arctic cat', 'ardie', 'ariel', 'arqin',\n",
       "       'aspes', 'atk', 'atlas honda', 'aurora', 'avanturaa choppers',\n",
       "       'avinton', 'azel', 'bajaj', 'balkan', 'bamx', 'baotian', 'barossa',\n",
       "       'beeline', 'benelli', 'bennche', 'beta', 'better',\n",
       "       'big bear choppers', 'big dog', 'bimota', 'bintelli',\n",
       "       'black douglas', 'blata', 'bluroc', 'bmc choppers', 'bmw',\n",
       "       'boom trikes', 'borile', 'boss hoss', 'bpg', 'bridgestone',\n",
       "       'britten', 'brixton', 'brough superior', 'brudeli', 'bsa',\n",
       "       'buccimoto', 'buell', 'bullit', 'bultaco', 'cagiva',\n",
       "       'california scooter', 'can-am', 'capirelli', 'cargobike', 'casal',\n",
       "       'caterham', 'ccm', 'cectek', 'cf moto', 'ch racing', 'chang-jiang',\n",
       "       'cheney', 'christini', 'cleveland', 'clipic', 'cobra',\n",
       "       'combat motors', 'confederate', 'cosmos muscle bikes',\n",
       "       'coventry eagle', 'cpi', 'cr&s', 'crocker', 'csc motorcycles',\n",
       "       'csr', 'cushman', 'cz', 'daelim', 'dafier', 'dafra', 'dandy',\n",
       "       'dayang', 'dayun', 'db motors', 'demak', 'derbi', 'derringer',\n",
       "       'df motor', 'dfang', 'di blasi', 'diamo', 'dihao', 'dinamo',\n",
       "       'dinli', 'dirico', 'dkw', 'dnepr', 'docker', 'donghai', 'drysdale',\n",
       "       'ducati', 'dürkopp', 'e-ton', 'eagle-wing', 'ecosse', 'enfield',\n",
       "       'erik buell racing', 'excelsior', 'factory bike', 'falcon',\n",
       "       'fantic', 'fb mondial', 'fgr', 'fischer', 'fuego', 'g&g',\n",
       "       'garelli', 'gas gas', 'geely', 'genata', 'generic',\n",
       "       'genuine scooter', 'geon', 'gg', 'ghezzi-brian', 'giantco',\n",
       "       'gilera', 'goes', 'gogo moto', 'grc moto', 'gymotor', 'hamachi',\n",
       "       'hanway', 'haojin', 'haojue', 'harley-davidson', 'hartford', 'hdm',\n",
       "       'headbanger', 'herald', 'hercules', 'hero', 'highland',\n",
       "       'hildebrand-wolfmüller', 'hm', 'hodaka', 'honda', 'horex',\n",
       "       'hp power', 'hunter', 'husaberg', 'husqvarna', 'hyosung',\n",
       "       'ice bear', 'indian', 'irbis', 'italika', 'italjet', 'italmoto',\n",
       "       'izh', 'izuka', 'james', 'janus', 'jawa', 'jawa-cz', 'jialing',\n",
       "       'jianshe', 'jincheng', 'jinlun', 'johnny pag', 'jonway', 'jordan',\n",
       "       'jotagas', 'junak', 'k2o', 'kasinski', 'kawasaki', 'keeway',\n",
       "       'kentoya', 'kinetic', 'kinroad', 'kreidler', 'ksr', 'ktm', 'kymco',\n",
       "       'lambretta', 'lauge jensen', 'laverda', 'lehman trikes', 'lem',\n",
       "       'leonart', 'lexmoto', 'lifan', 'ligier', 'linhai', 'lintex', 'lml',\n",
       "       'loncin', 'longjia', 'luxxon', 'macbor', 'magni', 'mahindra',\n",
       "       'maico', 'malaguti', 'malanca', 'mash', 'matchless', 'mbk',\n",
       "       'megelli', 'metisse', 'mgb', 'mh', 'mikilon', 'minsk', 'mitt',\n",
       "       'mm', 'modenas', 'monark', 'mondial', 'montesa', 'monto motors',\n",
       "       'moto guzzi', 'moto morini', 'moto union/omv', 'motobi',\n",
       "       'motoczysz', 'motolevo', 'motom', 'motomel', 'motorhispania',\n",
       "       'motorino', 'motors europe', 'mototrans', 'motowell', 'motus',\n",
       "       'muz', 'mv agusta', 'mz', 'münch', 'ncr', 'neander', 'neco',\n",
       "       'nembo', 'new hudson', 'nipponia', 'norton', 'nox', 'nsu',\n",
       "       'ohvale', 'orcal', 'orion', 'ossa', 'over', 'pagsta', 'pannonia',\n",
       "       'panther', 'paton', 'peraves', 'peugeot', 'pgo', 'piaggio',\n",
       "       'pitster pro', 'polaris', 'polini', 'power chief',\n",
       "       'prc (pro racing cycles)', 'puch', 'puma', 'qingqi', 'qjmotor',\n",
       "       'qlink', 'qooder', 'quadro', 'ravi piaggio', 'raybar', 'red wing',\n",
       "       'rewaco', 'rhino', 'ridley', 'riedel', 'rieju', 'road hopper',\n",
       "       'rockford', 'roehr', 'rokon', 'romet', 'roxon', 'royal alloy',\n",
       "       'rudge', 'sachs', 'samurai chopper', 'sanglas', 'saxon', 'schwinn',\n",
       "       'scomadi', 'scorpa', 'senke', 'serpento', 'shanyang', 'sherco',\n",
       "       'shineray', 'shinetime', 'silk', 'simplex', 'simson', 'sinnis',\n",
       "       'skygo', 'skyteam', 'sommer', 'sonik', 'sparta', 'stels', 'sukida',\n",
       "       'sunbeam', 'super gato', 'super motor', 'suzuki', 'suzuko', 'svm',\n",
       "       'swift', 'swm', 'sym', 'tank sports', 'tao motor', 'tauris',\n",
       "       'tayo', 'terra modena', 'tgb', 'tiger', 'titan', 'tm racing',\n",
       "       'tomberlin', 'tomos', 'track', 'travertson', 'triton', 'triumph',\n",
       "       'trs', 'tvs', 'ultra', 'um', 'ural', 'vahrenkamp', 'valenti',\n",
       "       'van veen', 'vastro', 'veli', 'velocette', 'vent', 'vento',\n",
       "       'vertemati', 'vertigo', 'vervemoto', 'vespa', 'viarelli',\n",
       "       'vibgyor', 'victoria', 'victory', 'vincent', 'viper', 'vmoto',\n",
       "       'voge', 'von dutch', 'vor', 'voskhod', 'voxan', 'vuka', 'vyrus',\n",
       "       'wakan', 'werner', 'whizzer', 'wk', 'wsk', 'wt motors', 'xingfu',\n",
       "       'xingyue', 'xispa', 'xmotos', 'yamaha', 'yangtze', 'yiben', 'yuki',\n",
       "       'zanella', 'zero', 'zest', 'znen', 'zongshen', 'zontes',\n",
       "       'zweirad-union', 'zündapp'], dtype=object)"
      ]
     },
     "execution_count": 24,
     "metadata": {},
     "output_type": "execute_result"
    }
   ],
   "source": [
    "df['Brand'].unique()"
   ]
  },
  {
   "cell_type": "code",
   "execution_count": 25,
   "id": "fd3733b8",
   "metadata": {},
   "outputs": [
    {
     "data": {
      "text/plain": [
       "False"
      ]
     },
     "execution_count": 25,
     "metadata": {},
     "output_type": "execute_result"
    }
   ],
   "source": [
    "df['Brand'].str.contains('nan', case=False, na=False).any()"
   ]
  },
  {
   "cell_type": "markdown",
   "id": "eb8fecf4",
   "metadata": {},
   "source": [
    "# Model column"
   ]
  },
  {
   "cell_type": "code",
   "execution_count": 26,
   "id": "064b6f54",
   "metadata": {},
   "outputs": [
    {
     "data": {
      "text/plain": [
       "array(['ams 3.20 supercross', 'ams 4.30 supermoto efi',\n",
       "       'ams 4.38 sm gear shift', ..., 'z 249', 'z 300', 'ams 8.57 lux lv'],\n",
       "      dtype=object)"
      ]
     },
     "execution_count": 26,
     "metadata": {},
     "output_type": "execute_result"
    }
   ],
   "source": [
    "df['Model'].unique()"
   ]
  },
  {
   "cell_type": "code",
   "execution_count": 27,
   "id": "3ff29d38",
   "metadata": {},
   "outputs": [
    {
     "data": {
      "text/plain": [
       "False"
      ]
     },
     "execution_count": 27,
     "metadata": {},
     "output_type": "execute_result"
    }
   ],
   "source": [
    "df['Brand'].str.contains('nan', case=False, na=False).any()"
   ]
  },
  {
   "cell_type": "markdown",
   "id": "41c16890",
   "metadata": {},
   "source": [
    "# Year column"
   ]
  },
  {
   "cell_type": "code",
   "execution_count": 28,
   "id": "11b1f5b3",
   "metadata": {},
   "outputs": [
    {
     "data": {
      "text/plain": [
       "array(['2016', '2021', '2018', '2020', '2022', '2009', '2011', '2010',\n",
       "       '2014', '1957', '1958', '1955', '1956', '1952', '1953', '1954',\n",
       "       '1959', '1960', '2007', '2019', '3019', '2008', '2012', '1961',\n",
       "       '1962', '1963', '1964', '1965', '1966', '1967', '1968', '1969',\n",
       "       '1971', '1972', '1970', '1974', '1962 CE', '1963 CE', '2005',\n",
       "       '2015', '2018 CE', '2006', '1949', '1950', '1951', '2013', '2017',\n",
       "       '1986', '1999', '1985', '1987', '1996', '1991', '1988', '1989',\n",
       "       '1990', '1992', '2004', '2002', '1998', '1997', '1993', '2000',\n",
       "       '2001', '1984', '1995', '2003', '1937', '1938', '1931', '1902',\n",
       "       '1903', '1913', '1914', '1915', '1916', '1918', '1932', '1933',\n",
       "       '1934', '1935', '1936', '1939', '1940', '1941', '1942', '1943',\n",
       "       '1944', '1945', '1946', '1947', '1948', '1898', '1910', '1929',\n",
       "       '1926', '1928', '1973', '1975', '1976', '1977', '1978', '1979',\n",
       "       '1980', '1982', '1983', '1981', '1930', '1923', '1924', '1925',\n",
       "       '1927', '1921', '1922', '1994', '1920', '1919', '1894', '1895',\n",
       "       '1896', '1897', '1917', '1906', '1907', '1908', '1909', '1911',\n",
       "       '1912', '1904', '1905', 1982, 1983, 1972, 1979, 1980, 1981, 1973,\n",
       "       2021, 2022, 1968, 1991, 1992, 1995, 1997, 1998, 2013, 2014, 1999,\n",
       "       2003, 1970, 2002, 2016, 2017, 2015, 2000, 2020, 2010, 2011, 2019,\n",
       "       2009, 2008, 2007, 2012, 2006, 2018, 1974, 1975, 1987, 1988, 1989,\n",
       "       1990, 1971, 1976, 1977, 1978, 2005, 1938, 1939, 1940, 1941, 1942,\n",
       "       1943, 1944, 1945, 1946, 1947, 1948, 1949, 1950, 1959, 1934, 1935,\n",
       "       1936, 1937, 1951, 1952, 1953, 1954, 1955, 1956, 1957, 1958, 1964,\n",
       "       1965, 1966, 1967, 1969, 1960, 1961, 1962, 1963, 2004, 1897, 1984,\n",
       "       1985, 1986, 1993, 1996, 1994, 2001, 1925, 1926, 1927, 1928, 1933,\n",
       "       1924, 1922, 1923, 1921, 1929], dtype=object)"
      ]
     },
     "execution_count": 28,
     "metadata": {},
     "output_type": "execute_result"
    }
   ],
   "source": [
    "df['Year'].unique()"
   ]
  },
  {
   "cell_type": "code",
   "execution_count": 29,
   "id": "f4f26b33",
   "metadata": {},
   "outputs": [],
   "source": [
    "df['Year'] = df['Year'].astype(str)"
   ]
  },
  {
   "cell_type": "code",
   "execution_count": 30,
   "id": "ebbea187",
   "metadata": {},
   "outputs": [],
   "source": [
    "df['Year'] = df['Year'].str.replace(' CE', '', regex=False)"
   ]
  },
  {
   "cell_type": "code",
   "execution_count": 31,
   "id": "87c52a47",
   "metadata": {},
   "outputs": [
    {
     "data": {
      "text/plain": [
       "False"
      ]
     },
     "execution_count": 31,
     "metadata": {},
     "output_type": "execute_result"
    }
   ],
   "source": [
    "df['Year'].str.contains('nan', case=False, na=False).any()"
   ]
  },
  {
   "cell_type": "code",
   "execution_count": 32,
   "id": "50560045",
   "metadata": {},
   "outputs": [
    {
     "data": {
      "text/plain": [
       "0"
      ]
     },
     "execution_count": 32,
     "metadata": {},
     "output_type": "execute_result"
    }
   ],
   "source": [
    "df['Year'].isna().sum()"
   ]
  },
  {
   "cell_type": "code",
   "execution_count": 33,
   "id": "8fe6ed27",
   "metadata": {},
   "outputs": [
    {
     "data": {
      "text/plain": [
       "6        False\n",
       "7        False\n",
       "8        False\n",
       "9        False\n",
       "10       False\n",
       "         ...  \n",
       "38538    False\n",
       "38539    False\n",
       "38540    False\n",
       "38541    False\n",
       "38542    False\n",
       "Name: Year, Length: 29818, dtype: bool"
      ]
     },
     "execution_count": 33,
     "metadata": {},
     "output_type": "execute_result"
    }
   ],
   "source": [
    "df['Year'].str.contains('nan', case=False, na=False)"
   ]
  },
  {
   "cell_type": "code",
   "execution_count": 34,
   "id": "fa659001",
   "metadata": {},
   "outputs": [],
   "source": [
    "df['Year'] = df['Year'].astype(int)"
   ]
  },
  {
   "cell_type": "code",
   "execution_count": 35,
   "id": "068a6b74",
   "metadata": {},
   "outputs": [
    {
     "data": {
      "text/plain": [
       "dtype('int32')"
      ]
     },
     "execution_count": 35,
     "metadata": {},
     "output_type": "execute_result"
    }
   ],
   "source": [
    "df['Year'].dtypes"
   ]
  },
  {
   "cell_type": "markdown",
   "id": "7474932c",
   "metadata": {},
   "source": [
    "# Category column"
   ]
  },
  {
   "cell_type": "code",
   "execution_count": 36,
   "id": "b4dc57c7",
   "metadata": {},
   "outputs": [
    {
     "data": {
      "text/html": [
       "<div>\n",
       "<style scoped>\n",
       "    .dataframe tbody tr th:only-of-type {\n",
       "        vertical-align: middle;\n",
       "    }\n",
       "\n",
       "    .dataframe tbody tr th {\n",
       "        vertical-align: top;\n",
       "    }\n",
       "\n",
       "    .dataframe thead th {\n",
       "        text-align: right;\n",
       "    }\n",
       "</style>\n",
       "<table border=\"1\" class=\"dataframe\">\n",
       "  <thead>\n",
       "    <tr style=\"text-align: right;\">\n",
       "      <th></th>\n",
       "      <th>Brand</th>\n",
       "      <th>Model</th>\n",
       "      <th>Year</th>\n",
       "      <th>Category</th>\n",
       "      <th>Displacement (ccm)</th>\n",
       "      <th>Engine cylinder</th>\n",
       "      <th>Engine stroke</th>\n",
       "      <th>Gearbox</th>\n",
       "      <th>Fuel capacity (lts)</th>\n",
       "      <th>Fuel system</th>\n",
       "      <th>Cooling system</th>\n",
       "      <th>Transmission type</th>\n",
       "    </tr>\n",
       "  </thead>\n",
       "  <tbody>\n",
       "    <tr>\n",
       "      <th>6</th>\n",
       "      <td>access</td>\n",
       "      <td>ams 3.20 supercross</td>\n",
       "      <td>2016</td>\n",
       "      <td>ATV</td>\n",
       "      <td>280.0</td>\n",
       "      <td>Single cylinder</td>\n",
       "      <td>four-stroke</td>\n",
       "      <td>Automatic</td>\n",
       "      <td>14.000000</td>\n",
       "      <td>Carburettor</td>\n",
       "      <td>Air</td>\n",
       "      <td>Chain</td>\n",
       "    </tr>\n",
       "    <tr>\n",
       "      <th>7</th>\n",
       "      <td>access</td>\n",
       "      <td>ams 4.30 supermoto efi</td>\n",
       "      <td>2016</td>\n",
       "      <td>ATV</td>\n",
       "      <td>359.3</td>\n",
       "      <td>Single cylinder</td>\n",
       "      <td>four-stroke</td>\n",
       "      <td>Automatic</td>\n",
       "      <td>14.000000</td>\n",
       "      <td>Injection. EFI</td>\n",
       "      <td>Air</td>\n",
       "      <td>Chain</td>\n",
       "    </tr>\n",
       "    <tr>\n",
       "      <th>8</th>\n",
       "      <td>access</td>\n",
       "      <td>ams 4.38 sm gear shift</td>\n",
       "      <td>2016</td>\n",
       "      <td>ATV</td>\n",
       "      <td>449.0</td>\n",
       "      <td>Single cylinder</td>\n",
       "      <td>four-stroke</td>\n",
       "      <td>5-speed</td>\n",
       "      <td>14.000000</td>\n",
       "      <td>Carburettor</td>\n",
       "      <td>Air</td>\n",
       "      <td>Chain</td>\n",
       "    </tr>\n",
       "    <tr>\n",
       "      <th>9</th>\n",
       "      <td>access</td>\n",
       "      <td>ams 4.38 sx gear shift</td>\n",
       "      <td>2016</td>\n",
       "      <td>ATV</td>\n",
       "      <td>449.0</td>\n",
       "      <td>Single cylinder</td>\n",
       "      <td>four-stroke</td>\n",
       "      <td>5-speed</td>\n",
       "      <td>14.000000</td>\n",
       "      <td>Carburettor</td>\n",
       "      <td>Air</td>\n",
       "      <td>Chain</td>\n",
       "    </tr>\n",
       "    <tr>\n",
       "      <th>10</th>\n",
       "      <td>access</td>\n",
       "      <td>ams 6.46 basic</td>\n",
       "      <td>2016</td>\n",
       "      <td>ATV</td>\n",
       "      <td>608.0</td>\n",
       "      <td>Single cylinder</td>\n",
       "      <td>four-stroke</td>\n",
       "      <td>Automatic</td>\n",
       "      <td>21.000000</td>\n",
       "      <td>Carburettor</td>\n",
       "      <td>Air</td>\n",
       "      <td>Chain</td>\n",
       "    </tr>\n",
       "    <tr>\n",
       "      <th>...</th>\n",
       "      <td>...</td>\n",
       "      <td>...</td>\n",
       "      <td>...</td>\n",
       "      <td>...</td>\n",
       "      <td>...</td>\n",
       "      <td>...</td>\n",
       "      <td>...</td>\n",
       "      <td>...</td>\n",
       "      <td>...</td>\n",
       "      <td>...</td>\n",
       "      <td>...</td>\n",
       "      <td>...</td>\n",
       "    </tr>\n",
       "    <tr>\n",
       "      <th>38538</th>\n",
       "      <td>azel</td>\n",
       "      <td>aries 50</td>\n",
       "      <td>2009</td>\n",
       "      <td>Scooter</td>\n",
       "      <td>50.0</td>\n",
       "      <td>Single cylinder</td>\n",
       "      <td>four-stroke</td>\n",
       "      <td>Automatic</td>\n",
       "      <td>13.275416</td>\n",
       "      <td>Carburettor</td>\n",
       "      <td>Air</td>\n",
       "      <td>Belt</td>\n",
       "    </tr>\n",
       "    <tr>\n",
       "      <th>38539</th>\n",
       "      <td>azel</td>\n",
       "      <td>aries 50</td>\n",
       "      <td>2010</td>\n",
       "      <td>Scooter</td>\n",
       "      <td>49.0</td>\n",
       "      <td>Single cylinder</td>\n",
       "      <td>four-stroke</td>\n",
       "      <td>Automatic</td>\n",
       "      <td>13.275416</td>\n",
       "      <td>Carburettor</td>\n",
       "      <td>Air</td>\n",
       "      <td>Chain</td>\n",
       "    </tr>\n",
       "    <tr>\n",
       "      <th>38540</th>\n",
       "      <td>azel</td>\n",
       "      <td>atila 125</td>\n",
       "      <td>2009</td>\n",
       "      <td>Enduro / offroad</td>\n",
       "      <td>125.0</td>\n",
       "      <td>Single cylinder</td>\n",
       "      <td>four-stroke</td>\n",
       "      <td>Automatic</td>\n",
       "      <td>13.275416</td>\n",
       "      <td>Carburettor</td>\n",
       "      <td>Air</td>\n",
       "      <td>Belt</td>\n",
       "    </tr>\n",
       "    <tr>\n",
       "      <th>38541</th>\n",
       "      <td>azel</td>\n",
       "      <td>atila 125</td>\n",
       "      <td>2010</td>\n",
       "      <td>Enduro / offroad</td>\n",
       "      <td>125.0</td>\n",
       "      <td>Single cylinder</td>\n",
       "      <td>four-stroke</td>\n",
       "      <td>6-speed</td>\n",
       "      <td>13.275416</td>\n",
       "      <td>Carburettor</td>\n",
       "      <td>Air</td>\n",
       "      <td>Chain</td>\n",
       "    </tr>\n",
       "    <tr>\n",
       "      <th>38542</th>\n",
       "      <td>azel</td>\n",
       "      <td>blackrose 250</td>\n",
       "      <td>2009</td>\n",
       "      <td>Custom / cruiser</td>\n",
       "      <td>248.0</td>\n",
       "      <td>V2</td>\n",
       "      <td>four-stroke</td>\n",
       "      <td>6-speed</td>\n",
       "      <td>13.275416</td>\n",
       "      <td>Carburettor</td>\n",
       "      <td>Air</td>\n",
       "      <td>Chain</td>\n",
       "    </tr>\n",
       "  </tbody>\n",
       "</table>\n",
       "<p>29818 rows × 12 columns</p>\n",
       "</div>"
      ],
      "text/plain": [
       "        Brand                   Model  Year          Category  \\\n",
       "6      access     ams 3.20 supercross  2016               ATV   \n",
       "7      access  ams 4.30 supermoto efi  2016               ATV   \n",
       "8      access  ams 4.38 sm gear shift  2016               ATV   \n",
       "9      access  ams 4.38 sx gear shift  2016               ATV   \n",
       "10     access          ams 6.46 basic  2016               ATV   \n",
       "...       ...                     ...   ...               ...   \n",
       "38538    azel                aries 50  2009           Scooter   \n",
       "38539    azel                aries 50  2010           Scooter   \n",
       "38540    azel               atila 125  2009  Enduro / offroad   \n",
       "38541    azel               atila 125  2010  Enduro / offroad   \n",
       "38542    azel           blackrose 250  2009  Custom / cruiser   \n",
       "\n",
       "       Displacement (ccm)  Engine cylinder Engine stroke    Gearbox  \\\n",
       "6                   280.0  Single cylinder   four-stroke  Automatic   \n",
       "7                   359.3  Single cylinder   four-stroke  Automatic   \n",
       "8                   449.0  Single cylinder   four-stroke    5-speed   \n",
       "9                   449.0  Single cylinder   four-stroke    5-speed   \n",
       "10                  608.0  Single cylinder   four-stroke  Automatic   \n",
       "...                   ...              ...           ...        ...   \n",
       "38538                50.0  Single cylinder   four-stroke  Automatic   \n",
       "38539                49.0  Single cylinder   four-stroke  Automatic   \n",
       "38540               125.0  Single cylinder   four-stroke  Automatic   \n",
       "38541               125.0  Single cylinder   four-stroke    6-speed   \n",
       "38542               248.0               V2   four-stroke    6-speed   \n",
       "\n",
       "       Fuel capacity (lts)     Fuel system Cooling system Transmission type  \n",
       "6                14.000000     Carburettor            Air             Chain  \n",
       "7                14.000000  Injection. EFI            Air             Chain  \n",
       "8                14.000000     Carburettor            Air             Chain  \n",
       "9                14.000000     Carburettor            Air             Chain  \n",
       "10               21.000000     Carburettor            Air             Chain  \n",
       "...                    ...             ...            ...               ...  \n",
       "38538            13.275416     Carburettor            Air              Belt  \n",
       "38539            13.275416     Carburettor            Air             Chain  \n",
       "38540            13.275416     Carburettor            Air              Belt  \n",
       "38541            13.275416     Carburettor            Air             Chain  \n",
       "38542            13.275416     Carburettor            Air             Chain  \n",
       "\n",
       "[29818 rows x 12 columns]"
      ]
     },
     "execution_count": 36,
     "metadata": {},
     "output_type": "execute_result"
    }
   ],
   "source": [
    "df"
   ]
  },
  {
   "cell_type": "code",
   "execution_count": 37,
   "id": "da0b22a8",
   "metadata": {},
   "outputs": [
    {
     "data": {
      "text/plain": [
       "array(['ATV', 'Scooter', 'Sport', 'Naked bike', 'Custom / cruiser',\n",
       "       'Allround', 'Cross / motocross', 'Super motard', 'Minibike, sport',\n",
       "       'Minibike, cross', 'Classic', 'Touring', 'Enduro / offroad',\n",
       "       'Trial', 'Prototype / concept model', 'Unspecified category',\n",
       "       'Sport touring', 'Speedway'], dtype=object)"
      ]
     },
     "execution_count": 37,
     "metadata": {},
     "output_type": "execute_result"
    }
   ],
   "source": [
    "df['Category'].unique()"
   ]
  },
  {
   "cell_type": "code",
   "execution_count": 38,
   "id": "24817b6f",
   "metadata": {},
   "outputs": [],
   "source": [
    "df['Category'] = df['Category'].str.split('/').str[0]"
   ]
  },
  {
   "cell_type": "code",
   "execution_count": 39,
   "id": "816bb43d",
   "metadata": {},
   "outputs": [
    {
     "data": {
      "text/plain": [
       "array(['ATV', 'Scooter', 'Sport', 'Naked bike', 'Custom ', 'Allround',\n",
       "       'Cross ', 'Super motard', 'Minibike, sport', 'Minibike, cross',\n",
       "       'Classic', 'Touring', 'Enduro ', 'Trial', 'Prototype ',\n",
       "       'Unspecified category', 'Sport touring', 'Speedway'], dtype=object)"
      ]
     },
     "execution_count": 39,
     "metadata": {},
     "output_type": "execute_result"
    }
   ],
   "source": [
    "df['Category'].unique()"
   ]
  },
  {
   "cell_type": "code",
   "execution_count": 40,
   "id": "81540043",
   "metadata": {},
   "outputs": [
    {
     "data": {
      "text/plain": [
       "False"
      ]
     },
     "execution_count": 40,
     "metadata": {},
     "output_type": "execute_result"
    }
   ],
   "source": [
    "df['Category'].str.contains('nan', case=False, na=False).any()"
   ]
  },
  {
   "cell_type": "markdown",
   "id": "4b33c5f1",
   "metadata": {},
   "source": [
    "# Displacement (ccm) column"
   ]
  },
  {
   "cell_type": "code",
   "execution_count": 41,
   "id": "03d4083b",
   "metadata": {},
   "outputs": [
    {
     "data": {
      "text/plain": [
       "array([280. , 359.3, 449. , ..., 312. , 791. , 751. ])"
      ]
     },
     "execution_count": 41,
     "metadata": {},
     "output_type": "execute_result"
    }
   ],
   "source": [
    "df['Displacement (ccm)'].unique()"
   ]
  },
  {
   "cell_type": "code",
   "execution_count": 42,
   "id": "99c1fbc8",
   "metadata": {},
   "outputs": [
    {
     "data": {
      "text/plain": [
       "125.0    1112\n",
       "124.0    1006\n",
       "249.0     970\n",
       "49.0      821\n",
       "998.0     397\n",
       "         ... \n",
       "238.0       1\n",
       "487.2       1\n",
       "652.3       1\n",
       "902.0       1\n",
       "819.0       1\n",
       "Name: Displacement (ccm), Length: 1179, dtype: int64"
      ]
     },
     "execution_count": 42,
     "metadata": {},
     "output_type": "execute_result"
    }
   ],
   "source": [
    "df['Displacement (ccm)'].value_counts()"
   ]
  },
  {
   "cell_type": "code",
   "execution_count": 43,
   "id": "617c4c89",
   "metadata": {},
   "outputs": [],
   "source": [
    "df['Displacement (ccm)'] = df['Displacement (ccm)'].astype(float)"
   ]
  },
  {
   "cell_type": "markdown",
   "id": "d450c5fb",
   "metadata": {},
   "source": [
    "# Engine cylinder column"
   ]
  },
  {
   "cell_type": "code",
   "execution_count": 44,
   "id": "65ba8b90",
   "metadata": {},
   "outputs": [
    {
     "data": {
      "text/plain": [
       "array(['Single cylinder', 'Twin', 'V2', 'Four cylinder boxer', 'V4',\n",
       "       'Diesel', 'Square four cylinder', 'In-line three', 'V8',\n",
       "       'In-line four', 'In-line six', 'Two cylinder boxer', 'V6',\n",
       "       'Single disk Wankel', 'Six cylinder boxer', 'V3',\n",
       "       'Dual disk Wankel'], dtype=object)"
      ]
     },
     "execution_count": 44,
     "metadata": {},
     "output_type": "execute_result"
    }
   ],
   "source": [
    "df['Engine cylinder'].unique()"
   ]
  },
  {
   "cell_type": "code",
   "execution_count": 45,
   "id": "7f2a9ccd",
   "metadata": {},
   "outputs": [
    {
     "data": {
      "text/plain": [
       "False"
      ]
     },
     "execution_count": 45,
     "metadata": {},
     "output_type": "execute_result"
    }
   ],
   "source": [
    "df['Engine cylinder'].str.contains('nan', case=False, na=False).any()"
   ]
  },
  {
   "cell_type": "markdown",
   "id": "6223c61b",
   "metadata": {},
   "source": [
    "# Engine stroke\t column"
   ]
  },
  {
   "cell_type": "code",
   "execution_count": 46,
   "id": "05d3226c",
   "metadata": {},
   "outputs": [
    {
     "data": {
      "text/plain": [
       "array([' four-stroke', ' two-stroke', 'Diesel', 'Square four cylinder',\n",
       "       'Single disk Wankel', 'Dual disk Wankel'], dtype=object)"
      ]
     },
     "execution_count": 46,
     "metadata": {},
     "output_type": "execute_result"
    }
   ],
   "source": [
    "df['Engine stroke'].unique()"
   ]
  },
  {
   "cell_type": "markdown",
   "id": "1f11d4da",
   "metadata": {},
   "source": [
    "# Gearbox column"
   ]
  },
  {
   "cell_type": "code",
   "execution_count": 47,
   "id": "5fd2f4bb",
   "metadata": {},
   "outputs": [
    {
     "data": {
      "text/plain": [
       "array(['Automatic', '5-speed', '6-speed', '3-speed', '4-speed', '1-speed',\n",
       "       '2-speed', '7-speed', '4-speed with reverse', '10-speed',\n",
       "       '2-speed automatic', '5-speed with reverse', '3-speed automatic',\n",
       "       '8-speed', '100-speed'], dtype=object)"
      ]
     },
     "execution_count": 47,
     "metadata": {},
     "output_type": "execute_result"
    }
   ],
   "source": [
    "df['Gearbox'].unique()"
   ]
  },
  {
   "cell_type": "code",
   "execution_count": 48,
   "id": "2099f4cd",
   "metadata": {},
   "outputs": [],
   "source": [
    "df['Gearbox'] = df['Gearbox'].str.split('speed').str[0] + 'speed'"
   ]
  },
  {
   "cell_type": "code",
   "execution_count": 49,
   "id": "ce48a178",
   "metadata": {},
   "outputs": [
    {
     "data": {
      "text/plain": [
       "array(['Automaticspeed', '5-speed', '6-speed', '3-speed', '4-speed',\n",
       "       '1-speed', '2-speed', '7-speed', '10-speed', '8-speed',\n",
       "       '100-speed'], dtype=object)"
      ]
     },
     "execution_count": 49,
     "metadata": {},
     "output_type": "execute_result"
    }
   ],
   "source": [
    "df['Gearbox'].unique()"
   ]
  },
  {
   "cell_type": "markdown",
   "id": "a2d39a37",
   "metadata": {},
   "source": [
    "# Fuel capacity (lts) column"
   ]
  },
  {
   "cell_type": "code",
   "execution_count": 51,
   "id": "5b777da7",
   "metadata": {},
   "outputs": [
    {
     "data": {
      "text/plain": [
       "array([14.        , 21.        , 13.27541585, 16.6       , 13.5       ,\n",
       "       12.        , 13.        ,  6.        ,  7.        , 15.        ,\n",
       "        3.75      ,  3.5       ,  6.2       ,  4.75      ,  5.5       ,\n",
       "        8.        ,  5.        ,  7.3       ,  9.3       , 23.        ,\n",
       "        3.4       ,  9.        , 24.        ,  2.        , 17.        ,\n",
       "       18.        ,  6.5       ,  7.5       ,  9.5       , 10.        ,\n",
       "        4.7       , 11.2       ,  6.3       , 19.        ,  7.2       ,\n",
       "        8.5       , 12.5       , 16.        ,  4.5       ,  6.7       ,\n",
       "        4.6       , 18.5       , 28.        ,  7.57      , 12.49      ,\n",
       "       17.03      , 40.        , 13.24      , 18.92      , 22.        ,\n",
       "       20.        , 10.5       , 25.        , 30.        ,  9.6       ,\n",
       "        2.8       ,  7.7       , 11.        ,  7.4       , 11.5       ,\n",
       "       19.5       , 14.5       , 12.2       ,  7.8       , 13.2       ,\n",
       "        8.97      ,  7.6       , 15.5       , 18.8       ,  8.4       ,\n",
       "        2.5       , 17.9       , 20.1       , 21.57      ,  8.71      ,\n",
       "       12.86      , 16.3       , 16.28      , 21.5       , 21.6       ,\n",
       "       24.6       ,  5.68      ,  5.7       , 12.11      , 22.71      ,\n",
       "       22.7       ,  5.3       , 20.06      , 21.95      , 20.81      ,\n",
       "       20.8       , 13.25      , 18.93      , 13.6       , 11.36      ,\n",
       "       15.14      , 15.9       , 14.8       , 11.9       , 10.6       ,\n",
       "        6.4       , 17.41      ,  9.84      ,  8.7       , 12.3       ,\n",
       "       16.5       , 13.1       , 15.52      ,  8.6       ,  9.2       ,\n",
       "        9.25      ,  9.7       ,  4.        ,  8.8       ,  3.        ,\n",
       "        4.8       ,  6.8       , 27.        , 12.7       , 15.97      ,\n",
       "       14.99      , 11.7       , 10.7       , 14.38      ,  2.2       ,\n",
       "        1.89      ,  3.1       ,  9.46      ,  2.6       ,  3.2       ,\n",
       "        4.2       ,  3.8       , 19.3       , 14.66      , 17.78      ,\n",
       "       16.65      , 17.98      ,  6.06      ,  5.49      ,  4.92      ,\n",
       "        4.73      ,  6.28      ,  1.        , 12.8       , 32.        ,\n",
       "       17.5       , 17.3       , 10.98      , 20.5       , 26.5       ,\n",
       "       23.84      , 26.        , 35.        , 22.1       , 20.4       ,\n",
       "       25.2       , 33.        , 32.93      , 24.98      , 19.68      ,\n",
       "       29.9       , 18.17      , 16.01      , 24.22      , 23.85      ,\n",
       "       19.6       , 33.5       , 14.6       , 37.        , 38.        ,\n",
       "       32.17      , 12.9       ,  3.3       , 21.19      , 10.59      ,\n",
       "       14.45      , 18.9       , 15.8       , 15.2       , 15.17      ,\n",
       "       19.98      , 11.35      ,  6.05      ,  2.7       , 20.44      ,\n",
       "       26.98      , 13.4       ,  3.02      , 14.19      , 16.25      ,\n",
       "       20.82      ,  5.8       ,  5.2       ,  8.3       ,  3.6       ,\n",
       "        5.9       ,  7.1       , 16.8       , 14.9       , 11.6       ,\n",
       "       14.7       , 13.3       ,  6.9       ,  2.3       ,  7.25      ,\n",
       "        6.81      ,  2.84      ,  5.48      ,  8.13      ,  8.14      ,\n",
       "       10.97      ,  4.3       , 12.6       , 18.3       , 12.4       ,\n",
       "       11.4       ,  5.1       , 13.7       , 14.25      , 17.1       ,\n",
       "        6.1       ,  1.5       ,  7.9       ,  2.9       ,  9.8       ,\n",
       "        8.2       ,  5.98      ,  2.4       , 30.28      , 34.        ,\n",
       "        5.6       ,  6.6       , 18.6       , 17.79      , 17.8       ,\n",
       "       19.7       , 18.16      , 18.2       , 18.7       , 17.4       ,\n",
       "       18.54      , 21.2       ,  6.62      ,  7.95      , 11.73      ,\n",
       "       16.7       ,  8.32      , 10.3       , 12.1       , 15.3       ,\n",
       "       11.1       , 14.76      , 24.8       , 18.77      ,  3.7       ,\n",
       "       16.27      , 12.87      , 15.89      , 21.8       , 16.2       ,\n",
       "       10.1       , 10.22      , 15.7       , 17.7       , 15.4       ,\n",
       "       16.1       ,  9.1       ,  9.08      ,  5.29      ,  5.67      ,\n",
       "        7.19      ,  4.31      ,  8.59      ,  2.64      ,  4.16      ,\n",
       "        3.79      ,  8.52      ,  6.43      ,  8.33      ,  7.61      ,\n",
       "        2.65      ,  4.1       , 14.1       , 24.1       ,  9.4       ,\n",
       "       15.51      , 13.62      , 13.63      , 21.01      , 21.1       ,\n",
       "       25.36      , 23.5       , 23.2       ,  4.99      ,  4.54      ,\n",
       "        4.4       ,  3.41      ,  7.38      , 29.        , 11.17      ,\n",
       "        3.9       , 29.14      , 14.3       , 10.21      , 16.4       ,\n",
       "       26.4       , 18.55      ,  4.9       , 19.1       , 20.3       ,\n",
       "       10.9       , 11.8       , 36.        , 24.5       , 10.2       ,\n",
       "       10.18      ,  3.78      ,  8.1       ,  7.87      ,  4.69      ,\n",
       "        7.34      , 14.2       , 17.94      , 28.5       , 20.43      ,\n",
       "       28.38      ,  7.94      , 23.08      , 23.09      ,  6.09      ,\n",
       "        6.21      , 21.7       , 13.9       , 10.8       , 14.98      ,\n",
       "       11.3       , 13.8       , 28.01      ,  1.8       ,  2.1       ,\n",
       "       25.5       , 48.        ,  7.49      , 12.98      ,  5.79      ,\n",
       "        6.69      , 12.79      ,  6.74      , 19.4       ,  2.49      ,\n",
       "        2.99      ,  3.48      ,  2.01      ,  6.02      , 12.25      ,\n",
       "        3.25      , 22.5       , 17.18      , 17.2       , 17.97      ,\n",
       "       20.7       , 20.66      ,  1.3       , 18.47      ,  5.4       ,\n",
       "        7.75      ,  3.21      ,  3.53      ,  1.6       , 50.        ,\n",
       "       47.        ,  5.75      ,  6.25      ,  8.75      ,  7.99      ,\n",
       "       19.9       , 19.87      , 25.55      , 40.12      ,  6.51      ,\n",
       "        6.32      , 10.26      , 22.3       , 45.        ,  8.9       ,\n",
       "       10.4       ,  5.41      ,  3.97      ,  2.95      ,  2.75      ,\n",
       "       11.25      , 12.07      , 22.48      ,  3.31      ,  2.83      ,\n",
       "       22.33      ,  9.99      ,  9.75      ,  5.26      ,  4.06      ,\n",
       "       15.36      , 16.16      , 16.08      ,  6.55      , 13.13      ,\n",
       "        9.68      ,  0.5       ,  4.23      , 18.01      , 18.02      ,\n",
       "        4.05      ,  1.9       ,  6.58      ,  3.03      , 11.92      ,\n",
       "       19.2       ,  6.17      , 18.35      ])"
      ]
     },
     "execution_count": 51,
     "metadata": {},
     "output_type": "execute_result"
    }
   ],
   "source": [
    "df['Fuel capacity (lts)'].unique()"
   ]
  },
  {
   "cell_type": "markdown",
   "id": "31a5de20",
   "metadata": {},
   "source": [
    "# Fuel system column"
   ]
  },
  {
   "cell_type": "code",
   "execution_count": 52,
   "id": "bda13ff8",
   "metadata": {},
   "outputs": [
    {
     "data": {
      "text/plain": [
       "array(['Carburettor', 'Injection. EFI', 'Injection', ...,\n",
       "       'Carburettor. Bing 20mm', 'Carburettor. Amal 22mm',\n",
       "       'Carburettor. Bing 19mm (1/19/36)'], dtype=object)"
      ]
     },
     "execution_count": 52,
     "metadata": {},
     "output_type": "execute_result"
    }
   ],
   "source": [
    "df['Fuel system'].unique()"
   ]
  },
  {
   "cell_type": "code",
   "execution_count": 53,
   "id": "65381f9a",
   "metadata": {},
   "outputs": [],
   "source": [
    "df['Fuel system'] = df['Fuel system'].str.lower()"
   ]
  },
  {
   "cell_type": "code",
   "execution_count": 54,
   "id": "8e50f033",
   "metadata": {},
   "outputs": [],
   "source": [
    "df['Fuel system'] = df['Fuel system'].str.split('.').str[0]"
   ]
  },
  {
   "cell_type": "code",
   "execution_count": 56,
   "id": "c8da22c0",
   "metadata": {},
   "outputs": [],
   "source": [
    "df['Fuel system'] = df['Fuel system'].replace({\n",
    "    'injection efi': 'injection','Bing 19mm (1/19/36)' : 'Bing 19mm' , 'carburettor': 'carburetor'})"
   ]
  },
  {
   "cell_type": "code",
   "execution_count": 57,
   "id": "41963228",
   "metadata": {},
   "outputs": [
    {
     "data": {
      "text/plain": [
       "array(['carburetor', 'injection', 'turbo'], dtype=object)"
      ]
     },
     "execution_count": 57,
     "metadata": {},
     "output_type": "execute_result"
    }
   ],
   "source": [
    "df['Fuel system'].unique()"
   ]
  },
  {
   "cell_type": "markdown",
   "id": "21c6eff4",
   "metadata": {},
   "source": [
    "# Cooling system column"
   ]
  },
  {
   "cell_type": "code",
   "execution_count": 60,
   "id": "95bc4891",
   "metadata": {},
   "outputs": [
    {
     "data": {
      "text/plain": [
       "array(['Air', 'Liquid', 'Liquids', 'the air', 'air', 'Oil & air',\n",
       "       'Oil and air'], dtype=object)"
      ]
     },
     "execution_count": 60,
     "metadata": {},
     "output_type": "execute_result"
    }
   ],
   "source": [
    "df['Cooling system'].unique()"
   ]
  },
  {
   "cell_type": "code",
   "execution_count": 61,
   "id": "721d9a79",
   "metadata": {},
   "outputs": [],
   "source": [
    "df['Cooling system'] = df['Cooling system'].str.lower()"
   ]
  },
  {
   "cell_type": "code",
   "execution_count": 62,
   "id": "cdaba771",
   "metadata": {},
   "outputs": [],
   "source": [
    "df['Cooling system'] = df['Cooling system'].replace({\n",
    "    'the air': 'air',\n",
    "    'liquids': 'liquid',\n",
    "    'oil and air': 'oil & air'})"
   ]
  },
  {
   "cell_type": "code",
   "execution_count": 63,
   "id": "c921b9c0",
   "metadata": {},
   "outputs": [
    {
     "data": {
      "text/plain": [
       "array(['air', 'liquid', 'oil & air'], dtype=object)"
      ]
     },
     "execution_count": 63,
     "metadata": {},
     "output_type": "execute_result"
    }
   ],
   "source": [
    "df['Cooling system'].unique()"
   ]
  },
  {
   "cell_type": "markdown",
   "id": "adeac095",
   "metadata": {},
   "source": [
    "# Transmission type  column"
   ]
  },
  {
   "cell_type": "code",
   "execution_count": 64,
   "id": "239c763c",
   "metadata": {},
   "outputs": [
    {
     "data": {
      "text/plain": [
       "array(['Chain', 'Belt', 'Shaft drive'], dtype=object)"
      ]
     },
     "execution_count": 64,
     "metadata": {},
     "output_type": "execute_result"
    }
   ],
   "source": [
    "df['Transmission type'].unique()"
   ]
  },
  {
   "cell_type": "code",
   "execution_count": null,
   "id": "e4431df5",
   "metadata": {},
   "outputs": [],
   "source": []
  }
 ],
 "metadata": {
  "kernelspec": {
   "display_name": "Python 3 (ipykernel)",
   "language": "python",
   "name": "python3"
  },
  "language_info": {
   "codemirror_mode": {
    "name": "ipython",
    "version": 3
   },
   "file_extension": ".py",
   "mimetype": "text/x-python",
   "name": "python",
   "nbconvert_exporter": "python",
   "pygments_lexer": "ipython3",
   "version": "3.9.13"
  }
 },
 "nbformat": 4,
 "nbformat_minor": 5
}
